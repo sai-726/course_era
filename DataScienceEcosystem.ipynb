{
 "cells": [
  {
   "cell_type": "markdown",
   "id": "f3ac4601",
   "metadata": {},
   "source": [
    "# Data Science Tools and Ecosystem"
   ]
  },
  {
   "cell_type": "markdown",
   "id": "db5bfa1c",
   "metadata": {},
   "source": [
    "In this notebook, Data Science Tools and Ecosystem are summarized."
   ]
  },
  {
   "cell_type": "markdown",
   "id": "fbb950aa",
   "metadata": {},
   "source": [
    "**Objectives:**\n",
    "* List popular languages for Data Science\n",
    "* commonly used libraries by data scientist\n",
    "* Data science tools\n",
    "* arithmetic expressions\n",
    "* converting minutes to hours"
   ]
  },
  {
   "cell_type": "markdown",
   "id": "802633cc",
   "metadata": {},
   "source": [
    "Some of the popular languages that Data Scientists use are: "
   ]
  },
  {
   "cell_type": "markdown",
   "id": "03edf1a7",
   "metadata": {},
   "source": [
    "1. python\n",
    "2. R langaue\n",
    "3. julia"
   ]
  },
  {
   "cell_type": "markdown",
   "id": "c6768484",
   "metadata": {},
   "source": [
    "Some of the commonly used libraries used by Data Scientists include:"
   ]
  },
  {
   "cell_type": "markdown",
   "id": "1887aa0c",
   "metadata": {},
   "source": [
    "1. NumPy\n",
    "2. Pandas\n",
    "3. Matplotlib\n",
    "4. Scikit-Learn"
   ]
  },
  {
   "cell_type": "markdown",
   "id": "1e2524ea",
   "metadata": {},
   "source": [
    "|Data Science Tools|  \n",
    "| -------------|\n",
    "| Apache Hadoop | \n",
    "|Tableau|\n",
    "| BigML |"
   ]
  },
  {
   "cell_type": "markdown",
   "id": "2a3cddd6",
   "metadata": {},
   "source": [
    "### Below are a few examples of evaluating arithmetic expressions in Python"
   ]
  },
  {
   "cell_type": "code",
   "execution_count": 5,
   "id": "3087f54f",
   "metadata": {
    "scrolled": false
   },
   "outputs": [
    {
     "data": {
      "text/plain": [
       "17"
      ]
     },
     "execution_count": 5,
     "metadata": {},
     "output_type": "execute_result"
    }
   ],
   "source": [
    "(3*4)+5"
   ]
  },
  {
   "cell_type": "code",
   "execution_count": 7,
   "id": "5d518e55",
   "metadata": {},
   "outputs": [
    {
     "data": {
      "text/plain": [
       "3"
      ]
     },
     "execution_count": 7,
     "metadata": {},
     "output_type": "execute_result"
    }
   ],
   "source": [
    "minutes=200\n",
    "hours=minutes//60\n",
    "hours"
   ]
  },
  {
   "cell_type": "markdown",
   "id": "5195d283",
   "metadata": {},
   "source": [
    "## Author\n",
    "KANDURI SAI KIRAN"
   ]
  },
  {
   "cell_type": "code",
   "execution_count": null,
   "id": "8c66094c",
   "metadata": {},
   "outputs": [],
   "source": []
  }
 ],
 "metadata": {
  "kernelspec": {
   "display_name": "Python 3 (ipykernel)",
   "language": "python",
   "name": "python3"
  },
  "language_info": {
   "codemirror_mode": {
    "name": "ipython",
    "version": 3
   },
   "file_extension": ".py",
   "mimetype": "text/x-python",
   "name": "python",
   "nbconvert_exporter": "python",
   "pygments_lexer": "ipython3",
   "version": "3.11.3"
  }
 },
 "nbformat": 4,
 "nbformat_minor": 5
}
